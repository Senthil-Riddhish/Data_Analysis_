{
 "cells": [
  {
   "cell_type": "code",
   "execution_count": 1,
   "id": "f8b88ec0",
   "metadata": {
    "_cell_guid": "b1076dfc-b9ad-4769-8c92-a6c4dae69d19",
    "_kg_hide-input": true,
    "_uuid": "8f2839f25d086af736a60e9eeb907d3b93b6e0e5",
    "execution": {
     "iopub.execute_input": "2023-05-10T10:25:51.404087Z",
     "iopub.status.busy": "2023-05-10T10:25:51.403529Z",
     "iopub.status.idle": "2023-05-10T10:25:51.443717Z",
     "shell.execute_reply": "2023-05-10T10:25:51.442070Z"
    },
    "papermill": {
     "duration": 0.055767,
     "end_time": "2023-05-10T10:25:51.447729",
     "exception": false,
     "start_time": "2023-05-10T10:25:51.391962",
     "status": "completed"
    },
    "scrolled": true,
    "tags": []
   },
   "outputs": [
    {
     "name": "stdout",
     "output_type": "stream",
     "text": [
      "/kaggle/input/others/carprices.csv\n",
      "/kaggle/input/others/canada_per_capita.csv\n",
      "/kaggle/input/others/Movie_classification.csv\n",
      "/kaggle/input/others/hiring.csv\n",
      "/kaggle/input/others/house-votes-84.csv\n",
      "/kaggle/input/others/xrayfull.csv\n",
      "/kaggle/input/others/insurance_data.csv\n",
      "/kaggle/input/others/daily-min-temperatures.csv\n",
      "/kaggle/input/others/nih_labels.csv\n",
      "/kaggle/input/others/Customer.csv\n",
      "/kaggle/input/others/us-airlines-monthly-aircraft-miles-flown.csv\n",
      "/kaggle/input/others/MBA_ADMISSIONS.csv\n",
      "/kaggle/input/others/salaries.csv\n",
      "/kaggle/input/others/Movie_regression.xls\n",
      "/kaggle/input/others/House_Price.csv\n",
      "/kaggle/input/others/shampoo.csv\n",
      "/kaggle/input/others/daily-total-female-births-CA.csv\n",
      "/kaggle/input/housedata/output.csv\n",
      "/kaggle/input/housedata/data.csv\n",
      "/kaggle/input/housedata/data.dat\n"
     ]
    }
   ],
   "source": [
    "# This Python 3 environment comes with many helpful analytics libraries installed\n",
    "# It is defined by the kaggle/python Docker image: https://github.com/kaggle/docker-python\n",
    "# For example, here's several helpful packages to load\n",
    "\n",
    "import numpy as np # linear algebra\n",
    "import pandas as pd # data processing, CSV file I/O (e.g. pd.read_csv)\n",
    "\n",
    "# Input data files are available in the read-only \"../input/\" directory\n",
    "# For example, running this (by clicking run or pressing Shift+Enter) will list all files under the input directory\n",
    "\n",
    "import os\n",
    "for dirname, _, filenames in os.walk('/kaggle/input'):\n",
    "    for filename in filenames:\n",
    "        print(os.path.join(dirname, filename))\n",
    "\n",
    "# You can write up to 20GB to the current directory (/kaggle/working/) that gets preserved as output when you create a version using \"Save & Run All\" \n",
    "# You can also write temporary files to /kaggle/temp/, but they won't be saved outside of the current session"
   ]
  },
  {
   "cell_type": "code",
   "execution_count": 2,
   "id": "12051c54",
   "metadata": {
    "execution": {
     "iopub.execute_input": "2023-05-10T10:25:51.468950Z",
     "iopub.status.busy": "2023-05-10T10:25:51.468454Z",
     "iopub.status.idle": "2023-05-10T10:25:52.906598Z",
     "shell.execute_reply": "2023-05-10T10:25:52.905170Z"
    },
    "papermill": {
     "duration": 1.452635,
     "end_time": "2023-05-10T10:25:52.909708",
     "exception": false,
     "start_time": "2023-05-10T10:25:51.457073",
     "status": "completed"
    },
    "tags": []
   },
   "outputs": [
    {
     "name": "stderr",
     "output_type": "stream",
     "text": [
      "/opt/conda/lib/python3.10/site-packages/scipy/__init__.py:146: UserWarning: A NumPy version >=1.16.5 and <1.23.0 is required for this version of SciPy (detected version 1.23.5\n",
      "  warnings.warn(f\"A NumPy version >={np_minversion} and <{np_maxversion}\"\n"
     ]
    }
   ],
   "source": [
    "import seaborn as sns\n",
    "import matplotlib.pyplot as plt"
   ]
  },
  {
   "cell_type": "code",
   "execution_count": 3,
   "id": "b28e6a8b",
   "metadata": {
    "execution": {
     "iopub.execute_input": "2023-05-10T10:25:52.930391Z",
     "iopub.status.busy": "2023-05-10T10:25:52.929978Z",
     "iopub.status.idle": "2023-05-10T10:25:52.960502Z",
     "shell.execute_reply": "2023-05-10T10:25:52.959606Z"
    },
    "papermill": {
     "duration": 0.045048,
     "end_time": "2023-05-10T10:25:52.963448",
     "exception": false,
     "start_time": "2023-05-10T10:25:52.918400",
     "status": "completed"
    },
    "tags": []
   },
   "outputs": [],
   "source": [
    "df=pd.read_csv('/kaggle/input/others/House_Price.csv',header=0)"
   ]
  },
  {
   "cell_type": "code",
   "execution_count": 4,
   "id": "f8c35c17",
   "metadata": {
    "execution": {
     "iopub.execute_input": "2023-05-10T10:25:52.983509Z",
     "iopub.status.busy": "2023-05-10T10:25:52.982784Z",
     "iopub.status.idle": "2023-05-10T10:25:53.037281Z",
     "shell.execute_reply": "2023-05-10T10:25:53.036203Z"
    },
    "papermill": {
     "duration": 0.067998,
     "end_time": "2023-05-10T10:25:53.040148",
     "exception": false,
     "start_time": "2023-05-10T10:25:52.972150",
     "status": "completed"
    },
    "tags": []
   },
   "outputs": [
    {
     "data": {
      "text/html": [
       "<div>\n",
       "<style scoped>\n",
       "    .dataframe tbody tr th:only-of-type {\n",
       "        vertical-align: middle;\n",
       "    }\n",
       "\n",
       "    .dataframe tbody tr th {\n",
       "        vertical-align: top;\n",
       "    }\n",
       "\n",
       "    .dataframe thead th {\n",
       "        text-align: right;\n",
       "    }\n",
       "</style>\n",
       "<table border=\"1\" class=\"dataframe\">\n",
       "  <thead>\n",
       "    <tr style=\"text-align: right;\">\n",
       "      <th></th>\n",
       "      <th>price</th>\n",
       "      <th>crime_rate</th>\n",
       "      <th>resid_area</th>\n",
       "      <th>air_qual</th>\n",
       "      <th>room_num</th>\n",
       "      <th>age</th>\n",
       "      <th>dist1</th>\n",
       "      <th>dist2</th>\n",
       "      <th>dist3</th>\n",
       "      <th>dist4</th>\n",
       "      <th>teachers</th>\n",
       "      <th>poor_prop</th>\n",
       "      <th>airport</th>\n",
       "      <th>n_hos_beds</th>\n",
       "      <th>n_hot_rooms</th>\n",
       "      <th>waterbody</th>\n",
       "      <th>rainfall</th>\n",
       "      <th>bus_ter</th>\n",
       "      <th>parks</th>\n",
       "    </tr>\n",
       "  </thead>\n",
       "  <tbody>\n",
       "    <tr>\n",
       "      <th>0</th>\n",
       "      <td>24.0</td>\n",
       "      <td>0.00632</td>\n",
       "      <td>32.31</td>\n",
       "      <td>0.538</td>\n",
       "      <td>6.575</td>\n",
       "      <td>65.2</td>\n",
       "      <td>4.35</td>\n",
       "      <td>3.81</td>\n",
       "      <td>4.18</td>\n",
       "      <td>4.01</td>\n",
       "      <td>24.7</td>\n",
       "      <td>4.98</td>\n",
       "      <td>YES</td>\n",
       "      <td>5.480</td>\n",
       "      <td>11.1920</td>\n",
       "      <td>River</td>\n",
       "      <td>23</td>\n",
       "      <td>YES</td>\n",
       "      <td>0.049347</td>\n",
       "    </tr>\n",
       "    <tr>\n",
       "      <th>1</th>\n",
       "      <td>21.6</td>\n",
       "      <td>0.02731</td>\n",
       "      <td>37.07</td>\n",
       "      <td>0.469</td>\n",
       "      <td>6.421</td>\n",
       "      <td>78.9</td>\n",
       "      <td>4.99</td>\n",
       "      <td>4.70</td>\n",
       "      <td>5.12</td>\n",
       "      <td>5.06</td>\n",
       "      <td>22.2</td>\n",
       "      <td>9.14</td>\n",
       "      <td>NO</td>\n",
       "      <td>7.332</td>\n",
       "      <td>12.1728</td>\n",
       "      <td>Lake</td>\n",
       "      <td>42</td>\n",
       "      <td>YES</td>\n",
       "      <td>0.046146</td>\n",
       "    </tr>\n",
       "    <tr>\n",
       "      <th>2</th>\n",
       "      <td>34.7</td>\n",
       "      <td>0.02729</td>\n",
       "      <td>37.07</td>\n",
       "      <td>0.469</td>\n",
       "      <td>7.185</td>\n",
       "      <td>61.1</td>\n",
       "      <td>5.03</td>\n",
       "      <td>4.86</td>\n",
       "      <td>5.01</td>\n",
       "      <td>4.97</td>\n",
       "      <td>22.2</td>\n",
       "      <td>4.03</td>\n",
       "      <td>NO</td>\n",
       "      <td>7.394</td>\n",
       "      <td>101.1200</td>\n",
       "      <td>None</td>\n",
       "      <td>38</td>\n",
       "      <td>YES</td>\n",
       "      <td>0.045764</td>\n",
       "    </tr>\n",
       "    <tr>\n",
       "      <th>3</th>\n",
       "      <td>33.4</td>\n",
       "      <td>0.03237</td>\n",
       "      <td>32.18</td>\n",
       "      <td>0.458</td>\n",
       "      <td>6.998</td>\n",
       "      <td>45.8</td>\n",
       "      <td>6.21</td>\n",
       "      <td>5.93</td>\n",
       "      <td>6.16</td>\n",
       "      <td>5.96</td>\n",
       "      <td>21.3</td>\n",
       "      <td>2.94</td>\n",
       "      <td>YES</td>\n",
       "      <td>9.268</td>\n",
       "      <td>11.2672</td>\n",
       "      <td>Lake</td>\n",
       "      <td>45</td>\n",
       "      <td>YES</td>\n",
       "      <td>0.047151</td>\n",
       "    </tr>\n",
       "    <tr>\n",
       "      <th>4</th>\n",
       "      <td>36.2</td>\n",
       "      <td>0.06905</td>\n",
       "      <td>32.18</td>\n",
       "      <td>0.458</td>\n",
       "      <td>7.147</td>\n",
       "      <td>54.2</td>\n",
       "      <td>6.16</td>\n",
       "      <td>5.86</td>\n",
       "      <td>6.37</td>\n",
       "      <td>5.86</td>\n",
       "      <td>21.3</td>\n",
       "      <td>5.33</td>\n",
       "      <td>NO</td>\n",
       "      <td>8.824</td>\n",
       "      <td>11.2896</td>\n",
       "      <td>Lake</td>\n",
       "      <td>55</td>\n",
       "      <td>YES</td>\n",
       "      <td>0.039474</td>\n",
       "    </tr>\n",
       "    <tr>\n",
       "      <th>5</th>\n",
       "      <td>28.7</td>\n",
       "      <td>0.02985</td>\n",
       "      <td>32.18</td>\n",
       "      <td>0.458</td>\n",
       "      <td>6.430</td>\n",
       "      <td>58.7</td>\n",
       "      <td>6.22</td>\n",
       "      <td>5.80</td>\n",
       "      <td>6.23</td>\n",
       "      <td>5.99</td>\n",
       "      <td>21.3</td>\n",
       "      <td>5.21</td>\n",
       "      <td>YES</td>\n",
       "      <td>7.174</td>\n",
       "      <td>14.2296</td>\n",
       "      <td>None</td>\n",
       "      <td>53</td>\n",
       "      <td>YES</td>\n",
       "      <td>0.045910</td>\n",
       "    </tr>\n",
       "    <tr>\n",
       "      <th>6</th>\n",
       "      <td>22.9</td>\n",
       "      <td>0.08829</td>\n",
       "      <td>37.87</td>\n",
       "      <td>0.524</td>\n",
       "      <td>6.012</td>\n",
       "      <td>66.6</td>\n",
       "      <td>5.87</td>\n",
       "      <td>5.47</td>\n",
       "      <td>5.70</td>\n",
       "      <td>5.20</td>\n",
       "      <td>24.8</td>\n",
       "      <td>12.43</td>\n",
       "      <td>YES</td>\n",
       "      <td>6.958</td>\n",
       "      <td>12.1832</td>\n",
       "      <td>River</td>\n",
       "      <td>41</td>\n",
       "      <td>YES</td>\n",
       "      <td>0.052170</td>\n",
       "    </tr>\n",
       "    <tr>\n",
       "      <th>7</th>\n",
       "      <td>22.1</td>\n",
       "      <td>0.14455</td>\n",
       "      <td>37.87</td>\n",
       "      <td>0.524</td>\n",
       "      <td>6.172</td>\n",
       "      <td>96.1</td>\n",
       "      <td>6.04</td>\n",
       "      <td>5.85</td>\n",
       "      <td>6.25</td>\n",
       "      <td>5.66</td>\n",
       "      <td>24.8</td>\n",
       "      <td>19.15</td>\n",
       "      <td>NO</td>\n",
       "      <td>5.842</td>\n",
       "      <td>12.1768</td>\n",
       "      <td>Lake</td>\n",
       "      <td>56</td>\n",
       "      <td>YES</td>\n",
       "      <td>0.057075</td>\n",
       "    </tr>\n",
       "    <tr>\n",
       "      <th>8</th>\n",
       "      <td>16.5</td>\n",
       "      <td>0.21124</td>\n",
       "      <td>37.87</td>\n",
       "      <td>0.524</td>\n",
       "      <td>5.631</td>\n",
       "      <td>100.0</td>\n",
       "      <td>6.18</td>\n",
       "      <td>5.85</td>\n",
       "      <td>6.30</td>\n",
       "      <td>6.00</td>\n",
       "      <td>24.8</td>\n",
       "      <td>29.93</td>\n",
       "      <td>YES</td>\n",
       "      <td>5.930</td>\n",
       "      <td>12.1320</td>\n",
       "      <td>None</td>\n",
       "      <td>55</td>\n",
       "      <td>YES</td>\n",
       "      <td>0.056302</td>\n",
       "    </tr>\n",
       "    <tr>\n",
       "      <th>9</th>\n",
       "      <td>18.9</td>\n",
       "      <td>0.17004</td>\n",
       "      <td>37.87</td>\n",
       "      <td>0.524</td>\n",
       "      <td>6.004</td>\n",
       "      <td>85.9</td>\n",
       "      <td>6.67</td>\n",
       "      <td>6.55</td>\n",
       "      <td>6.85</td>\n",
       "      <td>6.29</td>\n",
       "      <td>24.8</td>\n",
       "      <td>17.10</td>\n",
       "      <td>YES</td>\n",
       "      <td>9.478</td>\n",
       "      <td>14.1512</td>\n",
       "      <td>River</td>\n",
       "      <td>45</td>\n",
       "      <td>YES</td>\n",
       "      <td>0.050727</td>\n",
       "    </tr>\n",
       "  </tbody>\n",
       "</table>\n",
       "</div>"
      ],
      "text/plain": [
       "   price  crime_rate  resid_area  air_qual  room_num    age  dist1  dist2  \\\n",
       "0   24.0     0.00632       32.31     0.538     6.575   65.2   4.35   3.81   \n",
       "1   21.6     0.02731       37.07     0.469     6.421   78.9   4.99   4.70   \n",
       "2   34.7     0.02729       37.07     0.469     7.185   61.1   5.03   4.86   \n",
       "3   33.4     0.03237       32.18     0.458     6.998   45.8   6.21   5.93   \n",
       "4   36.2     0.06905       32.18     0.458     7.147   54.2   6.16   5.86   \n",
       "5   28.7     0.02985       32.18     0.458     6.430   58.7   6.22   5.80   \n",
       "6   22.9     0.08829       37.87     0.524     6.012   66.6   5.87   5.47   \n",
       "7   22.1     0.14455       37.87     0.524     6.172   96.1   6.04   5.85   \n",
       "8   16.5     0.21124       37.87     0.524     5.631  100.0   6.18   5.85   \n",
       "9   18.9     0.17004       37.87     0.524     6.004   85.9   6.67   6.55   \n",
       "\n",
       "   dist3  dist4  teachers  poor_prop airport  n_hos_beds  n_hot_rooms  \\\n",
       "0   4.18   4.01      24.7       4.98     YES       5.480      11.1920   \n",
       "1   5.12   5.06      22.2       9.14      NO       7.332      12.1728   \n",
       "2   5.01   4.97      22.2       4.03      NO       7.394     101.1200   \n",
       "3   6.16   5.96      21.3       2.94     YES       9.268      11.2672   \n",
       "4   6.37   5.86      21.3       5.33      NO       8.824      11.2896   \n",
       "5   6.23   5.99      21.3       5.21     YES       7.174      14.2296   \n",
       "6   5.70   5.20      24.8      12.43     YES       6.958      12.1832   \n",
       "7   6.25   5.66      24.8      19.15      NO       5.842      12.1768   \n",
       "8   6.30   6.00      24.8      29.93     YES       5.930      12.1320   \n",
       "9   6.85   6.29      24.8      17.10     YES       9.478      14.1512   \n",
       "\n",
       "  waterbody  rainfall bus_ter     parks  \n",
       "0     River        23     YES  0.049347  \n",
       "1      Lake        42     YES  0.046146  \n",
       "2      None        38     YES  0.045764  \n",
       "3      Lake        45     YES  0.047151  \n",
       "4      Lake        55     YES  0.039474  \n",
       "5      None        53     YES  0.045910  \n",
       "6     River        41     YES  0.052170  \n",
       "7      Lake        56     YES  0.057075  \n",
       "8      None        55     YES  0.056302  \n",
       "9     River        45     YES  0.050727  "
      ]
     },
     "execution_count": 4,
     "metadata": {},
     "output_type": "execute_result"
    }
   ],
   "source": [
    "df.head(10)"
   ]
  },
  {
   "cell_type": "code",
   "execution_count": 5,
   "id": "b6545467",
   "metadata": {
    "execution": {
     "iopub.execute_input": "2023-05-10T10:25:53.061662Z",
     "iopub.status.busy": "2023-05-10T10:25:53.061117Z",
     "iopub.status.idle": "2023-05-10T10:25:53.069380Z",
     "shell.execute_reply": "2023-05-10T10:25:53.068052Z"
    },
    "papermill": {
     "duration": 0.023116,
     "end_time": "2023-05-10T10:25:53.072335",
     "exception": false,
     "start_time": "2023-05-10T10:25:53.049219",
     "status": "completed"
    },
    "tags": []
   },
   "outputs": [
    {
     "data": {
      "text/plain": [
       "(506, 19)"
      ]
     },
     "execution_count": 5,
     "metadata": {},
     "output_type": "execute_result"
    }
   ],
   "source": [
    "df.shape"
   ]
  },
  {
   "cell_type": "markdown",
   "id": "e9d31828",
   "metadata": {
    "papermill": {
     "duration": 0.0093,
     "end_time": "2023-05-10T10:25:53.091504",
     "exception": false,
     "start_time": "2023-05-10T10:25:53.082204",
     "status": "completed"
    },
    "tags": []
   },
   "source": [
    "# UNIVARAIANT ANALYSIS"
   ]
  },
  {
   "cell_type": "markdown",
   "id": "c96c7303",
   "metadata": {
    "papermill": {
     "duration": 0.009339,
     "end_time": "2023-05-10T10:25:53.110861",
     "exception": false,
     "start_time": "2023-05-10T10:25:53.101522",
     "status": "completed"
    },
    "tags": []
   },
   "source": [
    "# EDD (EXTENDED DATA DICTIONARY)"
   ]
  },
  {
   "cell_type": "code",
   "execution_count": 6,
   "id": "c71b35a3",
   "metadata": {
    "execution": {
     "iopub.execute_input": "2023-05-10T10:25:53.132645Z",
     "iopub.status.busy": "2023-05-10T10:25:53.132144Z",
     "iopub.status.idle": "2023-05-10T10:25:53.211249Z",
     "shell.execute_reply": "2023-05-10T10:25:53.209834Z"
    },
    "papermill": {
     "duration": 0.093794,
     "end_time": "2023-05-10T10:25:53.214451",
     "exception": false,
     "start_time": "2023-05-10T10:25:53.120657",
     "status": "completed"
    },
    "tags": []
   },
   "outputs": [
    {
     "data": {
      "text/html": [
       "<div>\n",
       "<style scoped>\n",
       "    .dataframe tbody tr th:only-of-type {\n",
       "        vertical-align: middle;\n",
       "    }\n",
       "\n",
       "    .dataframe tbody tr th {\n",
       "        vertical-align: top;\n",
       "    }\n",
       "\n",
       "    .dataframe thead th {\n",
       "        text-align: right;\n",
       "    }\n",
       "</style>\n",
       "<table border=\"1\" class=\"dataframe\">\n",
       "  <thead>\n",
       "    <tr style=\"text-align: right;\">\n",
       "      <th></th>\n",
       "      <th>price</th>\n",
       "      <th>crime_rate</th>\n",
       "      <th>resid_area</th>\n",
       "      <th>air_qual</th>\n",
       "      <th>room_num</th>\n",
       "      <th>age</th>\n",
       "      <th>dist1</th>\n",
       "      <th>dist2</th>\n",
       "      <th>dist3</th>\n",
       "      <th>dist4</th>\n",
       "      <th>teachers</th>\n",
       "      <th>poor_prop</th>\n",
       "      <th>n_hos_beds</th>\n",
       "      <th>n_hot_rooms</th>\n",
       "      <th>rainfall</th>\n",
       "      <th>parks</th>\n",
       "    </tr>\n",
       "  </thead>\n",
       "  <tbody>\n",
       "    <tr>\n",
       "      <th>count</th>\n",
       "      <td>506.000000</td>\n",
       "      <td>506.000000</td>\n",
       "      <td>506.000000</td>\n",
       "      <td>506.000000</td>\n",
       "      <td>506.000000</td>\n",
       "      <td>506.000000</td>\n",
       "      <td>506.000000</td>\n",
       "      <td>506.000000</td>\n",
       "      <td>506.000000</td>\n",
       "      <td>506.000000</td>\n",
       "      <td>506.000000</td>\n",
       "      <td>506.000000</td>\n",
       "      <td>498.000000</td>\n",
       "      <td>506.000000</td>\n",
       "      <td>506.000000</td>\n",
       "      <td>506.000000</td>\n",
       "    </tr>\n",
       "    <tr>\n",
       "      <th>mean</th>\n",
       "      <td>22.528854</td>\n",
       "      <td>3.613524</td>\n",
       "      <td>41.136779</td>\n",
       "      <td>0.554695</td>\n",
       "      <td>6.284634</td>\n",
       "      <td>68.574901</td>\n",
       "      <td>3.971996</td>\n",
       "      <td>3.628775</td>\n",
       "      <td>3.960672</td>\n",
       "      <td>3.618972</td>\n",
       "      <td>21.544466</td>\n",
       "      <td>12.653063</td>\n",
       "      <td>7.899767</td>\n",
       "      <td>13.041605</td>\n",
       "      <td>39.181818</td>\n",
       "      <td>0.054454</td>\n",
       "    </tr>\n",
       "    <tr>\n",
       "      <th>std</th>\n",
       "      <td>9.182176</td>\n",
       "      <td>8.601545</td>\n",
       "      <td>6.860353</td>\n",
       "      <td>0.115878</td>\n",
       "      <td>0.702617</td>\n",
       "      <td>28.148861</td>\n",
       "      <td>2.108532</td>\n",
       "      <td>2.108580</td>\n",
       "      <td>2.119797</td>\n",
       "      <td>2.099203</td>\n",
       "      <td>2.164946</td>\n",
       "      <td>7.141062</td>\n",
       "      <td>1.476683</td>\n",
       "      <td>5.238957</td>\n",
       "      <td>12.513697</td>\n",
       "      <td>0.010632</td>\n",
       "    </tr>\n",
       "    <tr>\n",
       "      <th>min</th>\n",
       "      <td>5.000000</td>\n",
       "      <td>0.006320</td>\n",
       "      <td>30.460000</td>\n",
       "      <td>0.385000</td>\n",
       "      <td>3.561000</td>\n",
       "      <td>2.900000</td>\n",
       "      <td>1.130000</td>\n",
       "      <td>0.920000</td>\n",
       "      <td>1.150000</td>\n",
       "      <td>0.730000</td>\n",
       "      <td>18.000000</td>\n",
       "      <td>1.730000</td>\n",
       "      <td>5.268000</td>\n",
       "      <td>10.057600</td>\n",
       "      <td>3.000000</td>\n",
       "      <td>0.033292</td>\n",
       "    </tr>\n",
       "    <tr>\n",
       "      <th>25%</th>\n",
       "      <td>17.025000</td>\n",
       "      <td>0.082045</td>\n",
       "      <td>35.190000</td>\n",
       "      <td>0.449000</td>\n",
       "      <td>5.885500</td>\n",
       "      <td>45.025000</td>\n",
       "      <td>2.270000</td>\n",
       "      <td>1.940000</td>\n",
       "      <td>2.232500</td>\n",
       "      <td>1.940000</td>\n",
       "      <td>19.800000</td>\n",
       "      <td>6.950000</td>\n",
       "      <td>6.634500</td>\n",
       "      <td>11.189800</td>\n",
       "      <td>28.000000</td>\n",
       "      <td>0.046464</td>\n",
       "    </tr>\n",
       "    <tr>\n",
       "      <th>50%</th>\n",
       "      <td>21.200000</td>\n",
       "      <td>0.256510</td>\n",
       "      <td>39.690000</td>\n",
       "      <td>0.538000</td>\n",
       "      <td>6.208500</td>\n",
       "      <td>77.500000</td>\n",
       "      <td>3.385000</td>\n",
       "      <td>3.010000</td>\n",
       "      <td>3.375000</td>\n",
       "      <td>3.070000</td>\n",
       "      <td>20.950000</td>\n",
       "      <td>11.360000</td>\n",
       "      <td>7.999000</td>\n",
       "      <td>12.720000</td>\n",
       "      <td>39.000000</td>\n",
       "      <td>0.053507</td>\n",
       "    </tr>\n",
       "    <tr>\n",
       "      <th>75%</th>\n",
       "      <td>25.000000</td>\n",
       "      <td>3.677083</td>\n",
       "      <td>48.100000</td>\n",
       "      <td>0.624000</td>\n",
       "      <td>6.623500</td>\n",
       "      <td>94.075000</td>\n",
       "      <td>5.367500</td>\n",
       "      <td>4.992500</td>\n",
       "      <td>5.407500</td>\n",
       "      <td>4.985000</td>\n",
       "      <td>22.600000</td>\n",
       "      <td>16.955000</td>\n",
       "      <td>9.088000</td>\n",
       "      <td>14.170800</td>\n",
       "      <td>50.000000</td>\n",
       "      <td>0.061397</td>\n",
       "    </tr>\n",
       "    <tr>\n",
       "      <th>max</th>\n",
       "      <td>50.000000</td>\n",
       "      <td>88.976200</td>\n",
       "      <td>57.740000</td>\n",
       "      <td>0.871000</td>\n",
       "      <td>8.780000</td>\n",
       "      <td>100.000000</td>\n",
       "      <td>12.320000</td>\n",
       "      <td>11.930000</td>\n",
       "      <td>12.320000</td>\n",
       "      <td>11.940000</td>\n",
       "      <td>27.400000</td>\n",
       "      <td>37.970000</td>\n",
       "      <td>10.876000</td>\n",
       "      <td>101.120000</td>\n",
       "      <td>60.000000</td>\n",
       "      <td>0.086711</td>\n",
       "    </tr>\n",
       "  </tbody>\n",
       "</table>\n",
       "</div>"
      ],
      "text/plain": [
       "            price  crime_rate  resid_area    air_qual    room_num         age  \\\n",
       "count  506.000000  506.000000  506.000000  506.000000  506.000000  506.000000   \n",
       "mean    22.528854    3.613524   41.136779    0.554695    6.284634   68.574901   \n",
       "std      9.182176    8.601545    6.860353    0.115878    0.702617   28.148861   \n",
       "min      5.000000    0.006320   30.460000    0.385000    3.561000    2.900000   \n",
       "25%     17.025000    0.082045   35.190000    0.449000    5.885500   45.025000   \n",
       "50%     21.200000    0.256510   39.690000    0.538000    6.208500   77.500000   \n",
       "75%     25.000000    3.677083   48.100000    0.624000    6.623500   94.075000   \n",
       "max     50.000000   88.976200   57.740000    0.871000    8.780000  100.000000   \n",
       "\n",
       "            dist1       dist2       dist3       dist4    teachers   poor_prop  \\\n",
       "count  506.000000  506.000000  506.000000  506.000000  506.000000  506.000000   \n",
       "mean     3.971996    3.628775    3.960672    3.618972   21.544466   12.653063   \n",
       "std      2.108532    2.108580    2.119797    2.099203    2.164946    7.141062   \n",
       "min      1.130000    0.920000    1.150000    0.730000   18.000000    1.730000   \n",
       "25%      2.270000    1.940000    2.232500    1.940000   19.800000    6.950000   \n",
       "50%      3.385000    3.010000    3.375000    3.070000   20.950000   11.360000   \n",
       "75%      5.367500    4.992500    5.407500    4.985000   22.600000   16.955000   \n",
       "max     12.320000   11.930000   12.320000   11.940000   27.400000   37.970000   \n",
       "\n",
       "       n_hos_beds  n_hot_rooms    rainfall       parks  \n",
       "count  498.000000   506.000000  506.000000  506.000000  \n",
       "mean     7.899767    13.041605   39.181818    0.054454  \n",
       "std      1.476683     5.238957   12.513697    0.010632  \n",
       "min      5.268000    10.057600    3.000000    0.033292  \n",
       "25%      6.634500    11.189800   28.000000    0.046464  \n",
       "50%      7.999000    12.720000   39.000000    0.053507  \n",
       "75%      9.088000    14.170800   50.000000    0.061397  \n",
       "max     10.876000   101.120000   60.000000    0.086711  "
      ]
     },
     "execution_count": 6,
     "metadata": {},
     "output_type": "execute_result"
    }
   ],
   "source": [
    "df.describe()"
   ]
  },
  {
   "cell_type": "markdown",
   "id": "83a988fd",
   "metadata": {
    "papermill": {
     "duration": 0.010223,
     "end_time": "2023-05-10T10:25:53.234882",
     "exception": false,
     "start_time": "2023-05-10T10:25:53.224659",
     "status": "completed"
    },
    "tags": []
   },
   "source": [
    "# Analysis from EDD\n",
    "1. The distribution from the crime_rate would be negtively skewed.\n",
    "2. The distribution from the n_hot_rooms would be the negatively_skewed or may contain outliers."
   ]
  },
  {
   "cell_type": "code",
   "execution_count": 7,
   "id": "9cd4a727",
   "metadata": {
    "execution": {
     "iopub.execute_input": "2023-05-10T10:25:53.257996Z",
     "iopub.status.busy": "2023-05-10T10:25:53.257130Z",
     "iopub.status.idle": "2023-05-10T10:25:53.572173Z",
     "shell.execute_reply": "2023-05-10T10:25:53.570773Z"
    },
    "papermill": {
     "duration": 0.330326,
     "end_time": "2023-05-10T10:25:53.575387",
     "exception": false,
     "start_time": "2023-05-10T10:25:53.245061",
     "status": "completed"
    },
    "tags": []
   },
   "outputs": [
    {
     "data": {
      "text/plain": [
       "<AxesSubplot: xlabel='price', ylabel='crime_rate'>"
      ]
     },
     "execution_count": 7,
     "metadata": {},
     "output_type": "execute_result"
    },
    {
     "data": {
      "image/png": "[encoded data removed]",
      "text/plain": [
       "<Figure size 640x480 with 1 Axes>"
      ]
     },
     "metadata": {},
     "output_type": "display_data"
    }
   ],
   "source": [
    "sns.scatterplot(data=df,x=\"price\",y=\"crime_rate\")"
   ]
  },
  {
   "cell_type": "code",
   "execution_count": 8,
   "id": "24b77040",
   "metadata": {
    "execution": {
     "iopub.execute_input": "2023-05-10T10:25:53.599774Z",
     "iopub.status.busy": "2023-05-10T10:25:53.599235Z",
     "iopub.status.idle": "2023-05-10T10:25:54.131000Z",
     "shell.execute_reply": "2023-05-10T10:25:54.129910Z"
    },
    "papermill": {
     "duration": 0.547118,
     "end_time": "2023-05-10T10:25:54.133575",
     "exception": false,
     "start_time": "2023-05-10T10:25:53.586457",
     "status": "completed"
    },
    "tags": []
   },
   "outputs": [
    {
     "data": {
      "text/plain": [
       "Text(15.53915, 0.04, '95th Percentile')"
      ]
     },
     "execution_count": 8,
     "metadata": {},
     "output_type": "execute_result"
    },
    {
     "data": {
      "image/png": "[encoded data removed]",
      "text/plain": [
       "<Figure size 600x400 with 1 Axes>"
      ]
     },
     "metadata": {},
     "output_type": "display_data"
    }
   ],
   "source": [
    "fig, ax = plt.subplots(figsize = (6,4))\n",
    "df[\"crime_rate\"].plot(kind=\"hist\",density=True,bins=15)\n",
    "df[\"crime_rate\"].plot(kind=\"kde\")\n",
    "avocado=df[\"crime_rate\"]\n",
    "quant_5, quant_25, quant_50, quant_75, quant_95 = avocado.quantile(0.05), avocado.quantile(0.25), avocado.quantile(0.5), avocado.quantile(0.75), avocado.quantile(0.95)\n",
    "quants = [[quant_5, 0.6, 0.16], [quant_25, 0.8, 0.26], [quant_50, 1, 0.36],  [quant_75, 0.8, 0.46], [quant_95, 0.6, 0.56]]\n",
    "\n",
    "# Plot the lines with a loop\n",
    "for i in quants:\n",
    "    ax.axvline(i[0], alpha = i[1], ymax = i[2], linestyle = \":\",color=\"red\")\n",
    "ax.text(quant_5-.1, 0.1, \"5th\", size = 10, alpha = 0.8)\n",
    "ax.text(quant_25-.13, 0.08,\"25th\", size = 11, alpha = 0.85)\n",
    "ax.text(quant_50-.13, 0.07, \"50th\", size = 12, alpha = 1)\n",
    "ax.text(quant_75-.13, 0.05, \"75th\", size = 11, alpha = 0.85)\n",
    "ax.text(quant_95-.25, 0.04, \"95th Percentile\", size = 10, alpha =.8)"
   ]
  },
  {
   "cell_type": "markdown",
   "id": "6930ed21",
   "metadata": {
    "papermill": {
     "duration": 0.011193,
     "end_time": "2023-05-10T10:25:54.156439",
     "exception": false,
     "start_time": "2023-05-10T10:25:54.145246",
     "status": "completed"
    },
    "tags": []
   },
   "source": [
    "# Analysis of Numerical Varaible"
   ]
  },
  {
   "cell_type": "code",
   "execution_count": 9,
   "id": "b60e89d4",
   "metadata": {
    "execution": {
     "iopub.execute_input": "2023-05-10T10:25:54.182430Z",
     "iopub.status.busy": "2023-05-10T10:25:54.181438Z",
     "iopub.status.idle": "2023-05-10T10:25:55.202465Z",
     "shell.execute_reply": "2023-05-10T10:25:55.200872Z"
    },
    "papermill": {
     "duration": 1.037656,
     "end_time": "2023-05-10T10:25:55.205715",
     "exception": false,
     "start_time": "2023-05-10T10:25:54.168059",
     "status": "completed"
    },
    "tags": []
   },
   "outputs": [
    {
     "data": {
      "text/plain": [
       "<seaborn.axisgrid.JointGrid at 0x7b559a9bbca0>"
      ]
     },
     "execution_count": 9,
     "metadata": {},
     "output_type": "execute_result"
    },
    {
     "data": {
      "image/png": "[encoded data removed]",
      "text/plain": [
       "<Figure size 600x600 with 3 Axes>"
      ]
     },
     "metadata": {},
     "output_type": "display_data"
    }
   ],
   "source": [
    "sns.jointplot(data=df,x=\"n_hot_rooms\",y=\"price\")"
   ]
  },
  {
   "cell_type": "code",
   "execution_count": 10,
   "id": "f495e9f2",
   "metadata": {
    "execution": {
     "iopub.execute_input": "2023-05-10T10:25:55.232601Z",
     "iopub.status.busy": "2023-05-10T10:25:55.232112Z",
     "iopub.status.idle": "2023-05-10T10:25:56.062431Z",
     "shell.execute_reply": "2023-05-10T10:25:56.060778Z"
    },
    "papermill": {
     "duration": 0.847636,
     "end_time": "2023-05-10T10:25:56.065867",
     "exception": false,
     "start_time": "2023-05-10T10:25:55.218231",
     "status": "completed"
    },
    "tags": []
   },
   "outputs": [
    {
     "data": {
      "text/plain": [
       "<seaborn.axisgrid.JointGrid at 0x7b559d336050>"
      ]
     },
     "execution_count": 10,
     "metadata": {},
     "output_type": "execute_result"
    },
    {
     "data": {
      "image/png": "[encoded data removed]",
      "text/plain": [
       "<Figure size 600x600 with 3 Axes>"
      ]
     },
     "metadata": {},
     "output_type": "display_data"
    }
   ],
   "source": [
    "sns.jointplot(data=df,x=\"rainfall\",y=\"price\")"
   ]
  },
  {
   "cell_type": "markdown",
   "id": "c6d343cd",
   "metadata": {
    "papermill": {
     "duration": 0.012926,
     "end_time": "2023-05-10T10:25:56.092406",
     "exception": false,
     "start_time": "2023-05-10T10:25:56.079480",
     "status": "completed"
    },
    "tags": []
   },
   "source": [
    "# Analysis of Categorical Varaible"
   ]
  },
  {
   "cell_type": "code",
   "execution_count": 11,
   "id": "8dec69d9",
   "metadata": {
    "execution": {
     "iopub.execute_input": "2023-05-10T10:25:56.123640Z",
     "iopub.status.busy": "2023-05-10T10:25:56.122537Z",
     "iopub.status.idle": "2023-05-10T10:25:56.355215Z",
     "shell.execute_reply": "2023-05-10T10:25:56.353861Z"
    },
    "papermill": {
     "duration": 0.252097,
     "end_time": "2023-05-10T10:25:56.358281",
     "exception": false,
     "start_time": "2023-05-10T10:25:56.106184",
     "status": "completed"
    },
    "tags": []
   },
   "outputs": [
    {
     "data": {
      "text/plain": [
       "<AxesSubplot: xlabel='airport', ylabel='count'>"
      ]
     },
     "execution_count": 11,
     "metadata": {},
     "output_type": "execute_result"
    },
    {
     "data": {
      "image/png": "[encoded data removed]",
      "text/plain": [
       "<Figure size 640x480 with 1 Axes>"
      ]
     },
     "metadata": {},
     "output_type": "display_data"
    }
   ],
   "source": [
    "sns.countplot(data=df,x=\"airport\")"
   ]
  },
  {
   "cell_type": "code",
   "execution_count": 12,
   "id": "e676f6a7",
   "metadata": {
    "execution": {
     "iopub.execute_input": "2023-05-10T10:25:56.387742Z",
     "iopub.status.busy": "2023-05-10T10:25:56.387218Z",
     "iopub.status.idle": "2023-05-10T10:25:56.652103Z",
     "shell.execute_reply": "2023-05-10T10:25:56.650656Z"
    },
    "papermill": {
     "duration": 0.283359,
     "end_time": "2023-05-10T10:25:56.655239",
     "exception": false,
     "start_time": "2023-05-10T10:25:56.371880",
     "status": "completed"
    },
    "tags": []
   },
   "outputs": [
    {
     "data": {
      "text/plain": [
       "<AxesSubplot: xlabel='waterbody', ylabel='count'>"
      ]
     },
     "execution_count": 12,
     "metadata": {},
     "output_type": "execute_result"
    },
    {
     "data": {
      "image/png": "[encoded data removed]",
      "text/plain": [
       "<Figure size 640x480 with 1 Axes>"
      ]
     },
     "metadata": {},
     "output_type": "display_data"
    }
   ],
   "source": [
    "sns.countplot(data=df,x=\"waterbody\")"
   ]
  },
  {
   "cell_type": "code",
   "execution_count": 13,
   "id": "44c61aaa",
   "metadata": {
    "execution": {
     "iopub.execute_input": "2023-05-10T10:25:56.688241Z",
     "iopub.status.busy": "2023-05-10T10:25:56.687250Z",
     "iopub.status.idle": "2023-05-10T10:25:56.900421Z",
     "shell.execute_reply": "2023-05-10T10:25:56.899069Z"
    },
    "papermill": {
     "duration": 0.233306,
     "end_time": "2023-05-10T10:25:56.903231",
     "exception": false,
     "start_time": "2023-05-10T10:25:56.669925",
     "status": "completed"
    },
    "tags": []
   },
   "outputs": [
    {
     "data": {
      "text/plain": [
       "<AxesSubplot: xlabel='bus_ter', ylabel='count'>"
      ]
     },
     "execution_count": 13,
     "metadata": {},
     "output_type": "execute_result"
    },
    {
     "data": {
      "image/png": "[encoded data removed]",
      "text/plain": [
       "<Figure size 640x480 with 1 Axes>"
      ]
     },
     "metadata": {},
     "output_type": "display_data"
    }
   ],
   "source": [
    "sns.countplot(data=df,x=\"bus_ter\")"
   ]
  },
  {
   "cell_type": "markdown",
   "id": "4db32485",
   "metadata": {
    "papermill": {
     "duration": 0.01422,
     "end_time": "2023-05-10T10:25:56.932337",
     "exception": false,
     "start_time": "2023-05-10T10:25:56.918117",
     "status": "completed"
    },
    "tags": []
   },
   "source": [
    "# OBSERVATION\n",
    "1. Missing values in n_hot_beds\n",
    "2. Skewness or outliers in crime_rate\n",
    "3. Outliers in h_hot_rooms and rainfall\n",
    "3. Bus_ter has only one values"
   ]
  },
  {
   "cell_type": "code",
   "execution_count": 14,
   "id": "c596eb9e",
   "metadata": {
    "execution": {
     "iopub.execute_input": "2023-05-10T10:25:56.966629Z",
     "iopub.status.busy": "2023-05-10T10:25:56.965200Z",
     "iopub.status.idle": "2023-05-10T10:25:56.988129Z",
     "shell.execute_reply": "2023-05-10T10:25:56.986810Z"
    },
    "papermill": {
     "duration": 0.043914,
     "end_time": "2023-05-10T10:25:56.991695",
     "exception": false,
     "start_time": "2023-05-10T10:25:56.947781",
     "status": "completed"
    },
    "tags": []
   },
   "outputs": [
    {
     "name": "stdout",
     "output_type": "stream",
     "text": [
      "<class 'pandas.core.frame.DataFrame'>\n",
      "RangeIndex: 506 entries, 0 to 505\n",
      "Data columns (total 19 columns):\n",
      " #   Column       Non-Null Count  Dtype  \n",
      "---  ------       --------------  -----  \n",
      " 0   price        506 non-null    float64\n",
      " 1   crime_rate   506 non-null    float64\n",
      " 2   resid_area   506 non-null    float64\n",
      " 3   air_qual     506 non-null    float64\n",
      " 4   room_num     506 non-null    float64\n",
      " 5   age          506 non-null    float64\n",
      " 6   dist1        506 non-null    float64\n",
      " 7   dist2        506 non-null    float64\n",
      " 8   dist3        506 non-null    float64\n",
      " 9   dist4        506 non-null    float64\n",
      " 10  teachers     506 non-null    float64\n",
      " 11  poor_prop    506 non-null    float64\n",
      " 12  airport      506 non-null    object \n",
      " 13  n_hos_beds   498 non-null    float64\n",
      " 14  n_hot_rooms  506 non-null    float64\n",
      " 15  waterbody    506 non-null    object \n",
      " 16  rainfall     506 non-null    int64  \n",
      " 17  bus_ter      506 non-null    object \n",
      " 18  parks        506 non-null    float64\n",
      "dtypes: float64(15), int64(1), object(3)\n",
      "memory usage: 75.2+ KB\n"
     ]
    }
   ],
   "source": [
    "df.info()"
   ]
  },
  {
   "cell_type": "markdown",
   "id": "90380b03",
   "metadata": {
    "papermill": {
     "duration": 0.015014,
     "end_time": "2023-05-10T10:25:57.022181",
     "exception": false,
     "start_time": "2023-05-10T10:25:57.007167",
     "status": "completed"
    },
    "tags": []
   },
   "source": [
    "# Treating the Outliers\n",
    "By using Capping and flooring method"
   ]
  },
  {
   "cell_type": "code",
   "execution_count": 15,
   "id": "6f74ee04",
   "metadata": {
    "execution": {
     "iopub.execute_input": "2023-05-10T10:25:57.056012Z",
     "iopub.status.busy": "2023-05-10T10:25:57.054962Z",
     "iopub.status.idle": "2023-05-10T10:25:57.062182Z",
     "shell.execute_reply": "2023-05-10T10:25:57.061036Z"
    },
    "papermill": {
     "duration": 0.028027,
     "end_time": "2023-05-10T10:25:57.065537",
     "exception": false,
     "start_time": "2023-05-10T10:25:57.037510",
     "status": "completed"
    },
    "tags": []
   },
   "outputs": [],
   "source": [
    "upper_n_hot_beds=np.percentile(df[\"n_hot_rooms\"],[99])[0]\n",
    "lower_n_hot_beds=np.percentile(df[\"n_hot_rooms\"],[1])[0]"
   ]
  },
  {
   "cell_type": "code",
   "execution_count": 16,
   "id": "d638ff63",
   "metadata": {
    "execution": {
     "iopub.execute_input": "2023-05-10T10:25:57.098769Z",
     "iopub.status.busy": "2023-05-10T10:25:57.097894Z",
     "iopub.status.idle": "2023-05-10T10:25:57.108661Z",
     "shell.execute_reply": "2023-05-10T10:25:57.107506Z"
    },
    "papermill": {
     "duration": 0.03062,
     "end_time": "2023-05-10T10:25:57.111587",
     "exception": false,
     "start_time": "2023-05-10T10:25:57.080967",
     "status": "completed"
    },
    "tags": []
   },
   "outputs": [],
   "source": [
    "df[df.n_hot_rooms>upper_n_hot_beds]=3*upper_n_hot_beds\n",
    "df[df.n_hot_rooms<lower_n_hot_beds]=0.3*lower_n_hot_beds"
   ]
  },
  {
   "cell_type": "code",
   "execution_count": 17,
   "id": "6e552aa7",
   "metadata": {
    "execution": {
     "iopub.execute_input": "2023-05-10T10:25:57.145874Z",
     "iopub.status.busy": "2023-05-10T10:25:57.144967Z",
     "iopub.status.idle": "2023-05-10T10:25:57.152479Z",
     "shell.execute_reply": "2023-05-10T10:25:57.151053Z"
    },
    "papermill": {
     "duration": 0.028644,
     "end_time": "2023-05-10T10:25:57.155977",
     "exception": false,
     "start_time": "2023-05-10T10:25:57.127333",
     "status": "completed"
    },
    "tags": []
   },
   "outputs": [],
   "source": [
    "upper_rainfall=np.percentile(df[\"rainfall\"],[99])[0]\n",
    "lower_rainfall=np.percentile(df[\"rainfall\"],[1])[0]"
   ]
  },
  {
   "cell_type": "code",
   "execution_count": 18,
   "id": "0e19cef6",
   "metadata": {
    "execution": {
     "iopub.execute_input": "2023-05-10T10:25:57.189145Z",
     "iopub.status.busy": "2023-05-10T10:25:57.188583Z",
     "iopub.status.idle": "2023-05-10T10:25:57.200436Z",
     "shell.execute_reply": "2023-05-10T10:25:57.199008Z"
    },
    "papermill": {
     "duration": 0.031829,
     "end_time": "2023-05-10T10:25:57.203565",
     "exception": false,
     "start_time": "2023-05-10T10:25:57.171736",
     "status": "completed"
    },
    "tags": []
   },
   "outputs": [],
   "source": [
    "df[df.rainfall>upper_rainfall]=3*upper_rainfall\n",
    "df[df.rainfall<lower_rainfall]=0.3*lower_n_hot_beds"
   ]
  },
  {
   "cell_type": "code",
   "execution_count": 19,
   "id": "ea0f15a8",
   "metadata": {
    "execution": {
     "iopub.execute_input": "2023-05-10T10:25:57.235726Z",
     "iopub.status.busy": "2023-05-10T10:25:57.235233Z",
     "iopub.status.idle": "2023-05-10T10:25:57.310157Z",
     "shell.execute_reply": "2023-05-10T10:25:57.308668Z"
    },
    "papermill": {
     "duration": 0.094517,
     "end_time": "2023-05-10T10:25:57.313120",
     "exception": false,
     "start_time": "2023-05-10T10:25:57.218603",
     "status": "completed"
    },
    "tags": []
   },
   "outputs": [
    {
     "data": {
      "text/html": [
       "<div>\n",
       "<style scoped>\n",
       "    .dataframe tbody tr th:only-of-type {\n",
       "        vertical-align: middle;\n",
       "    }\n",
       "\n",
       "    .dataframe tbody tr th {\n",
       "        vertical-align: top;\n",
       "    }\n",
       "\n",
       "    .dataframe thead th {\n",
       "        text-align: right;\n",
       "    }\n",
       "</style>\n",
       "<table border=\"1\" class=\"dataframe\">\n",
       "  <thead>\n",
       "    <tr style=\"text-align: right;\">\n",
       "      <th></th>\n",
       "      <th>price</th>\n",
       "      <th>crime_rate</th>\n",
       "      <th>resid_area</th>\n",
       "      <th>air_qual</th>\n",
       "      <th>room_num</th>\n",
       "      <th>age</th>\n",
       "      <th>dist1</th>\n",
       "      <th>dist2</th>\n",
       "      <th>dist3</th>\n",
       "      <th>dist4</th>\n",
       "      <th>teachers</th>\n",
       "      <th>poor_prop</th>\n",
       "      <th>n_hos_beds</th>\n",
       "      <th>n_hot_rooms</th>\n",
       "      <th>rainfall</th>\n",
       "      <th>parks</th>\n",
       "    </tr>\n",
       "  </thead>\n",
       "  <tbody>\n",
       "    <tr>\n",
       "      <th>count</th>\n",
       "      <td>506.000000</td>\n",
       "      <td>506.000000</td>\n",
       "      <td>506.000000</td>\n",
       "      <td>506.000000</td>\n",
       "      <td>506.000000</td>\n",
       "      <td>506.000000</td>\n",
       "      <td>506.000000</td>\n",
       "      <td>506.000000</td>\n",
       "      <td>506.000000</td>\n",
       "      <td>506.000000</td>\n",
       "      <td>506.000000</td>\n",
       "      <td>506.000000</td>\n",
       "      <td>499.000000</td>\n",
       "      <td>506.000000</td>\n",
       "      <td>506.000000</td>\n",
       "      <td>506.000000</td>\n",
       "    </tr>\n",
       "    <tr>\n",
       "      <th>mean</th>\n",
       "      <td>22.466949</td>\n",
       "      <td>4.034418</td>\n",
       "      <td>40.563748</td>\n",
       "      <td>1.128777</td>\n",
       "      <td>6.702947</td>\n",
       "      <td>67.086317</td>\n",
       "      <td>4.493708</td>\n",
       "      <td>4.159815</td>\n",
       "      <td>4.482364</td>\n",
       "      <td>4.148669</td>\n",
       "      <td>21.581376</td>\n",
       "      <td>12.847503</td>\n",
       "      <td>8.296626</td>\n",
       "      <td>13.009754</td>\n",
       "      <td>38.716159</td>\n",
       "      <td>0.642595</td>\n",
       "    </tr>\n",
       "    <tr>\n",
       "      <th>std</th>\n",
       "      <td>9.354954</td>\n",
       "      <td>9.701752</td>\n",
       "      <td>8.095450</td>\n",
       "      <td>4.951809</td>\n",
       "      <td>4.400548</td>\n",
       "      <td>28.930441</td>\n",
       "      <td>5.028362</td>\n",
       "      <td>5.060760</td>\n",
       "      <td>5.034424</td>\n",
       "      <td>5.058312</td>\n",
       "      <td>4.061698</td>\n",
       "      <td>7.923998</td>\n",
       "      <td>4.472174</td>\n",
       "      <td>4.146546</td>\n",
       "      <td>12.997474</td>\n",
       "      <td>5.007425</td>\n",
       "    </tr>\n",
       "    <tr>\n",
       "      <th>min</th>\n",
       "      <td>3.026424</td>\n",
       "      <td>0.006320</td>\n",
       "      <td>3.026424</td>\n",
       "      <td>0.385000</td>\n",
       "      <td>3.026424</td>\n",
       "      <td>2.900000</td>\n",
       "      <td>1.130000</td>\n",
       "      <td>0.920000</td>\n",
       "      <td>1.150000</td>\n",
       "      <td>0.730000</td>\n",
       "      <td>3.026424</td>\n",
       "      <td>1.730000</td>\n",
       "      <td>3.026424</td>\n",
       "      <td>3.026424</td>\n",
       "      <td>3.026424</td>\n",
       "      <td>0.033292</td>\n",
       "    </tr>\n",
       "    <tr>\n",
       "      <th>25%</th>\n",
       "      <td>17.025000</td>\n",
       "      <td>0.082492</td>\n",
       "      <td>35.130000</td>\n",
       "      <td>0.449000</td>\n",
       "      <td>5.877250</td>\n",
       "      <td>42.650000</td>\n",
       "      <td>2.300000</td>\n",
       "      <td>1.972500</td>\n",
       "      <td>2.302500</td>\n",
       "      <td>2.020000</td>\n",
       "      <td>19.800000</td>\n",
       "      <td>6.877500</td>\n",
       "      <td>6.606000</td>\n",
       "      <td>11.189800</td>\n",
       "      <td>27.000000</td>\n",
       "      <td>0.046528</td>\n",
       "    </tr>\n",
       "    <tr>\n",
       "      <th>50%</th>\n",
       "      <td>21.200000</td>\n",
       "      <td>0.268880</td>\n",
       "      <td>38.560000</td>\n",
       "      <td>0.538000</td>\n",
       "      <td>6.193000</td>\n",
       "      <td>75.500000</td>\n",
       "      <td>3.420000</td>\n",
       "      <td>3.070000</td>\n",
       "      <td>3.410000</td>\n",
       "      <td>3.120000</td>\n",
       "      <td>21.000000</td>\n",
       "      <td>11.330000</td>\n",
       "      <td>7.998000</td>\n",
       "      <td>12.720000</td>\n",
       "      <td>39.000000</td>\n",
       "      <td>0.053860</td>\n",
       "    </tr>\n",
       "    <tr>\n",
       "      <th>75%</th>\n",
       "      <td>25.000000</td>\n",
       "      <td>3.647423</td>\n",
       "      <td>48.100000</td>\n",
       "      <td>0.643000</td>\n",
       "      <td>6.623500</td>\n",
       "      <td>93.600000</td>\n",
       "      <td>5.467500</td>\n",
       "      <td>5.077500</td>\n",
       "      <td>5.477500</td>\n",
       "      <td>5.060000</td>\n",
       "      <td>23.000000</td>\n",
       "      <td>16.930000</td>\n",
       "      <td>9.145000</td>\n",
       "      <td>14.170800</td>\n",
       "      <td>50.000000</td>\n",
       "      <td>0.061625</td>\n",
       "    </tr>\n",
       "    <tr>\n",
       "      <th>max</th>\n",
       "      <td>50.000000</td>\n",
       "      <td>88.976200</td>\n",
       "      <td>57.740000</td>\n",
       "      <td>46.198560</td>\n",
       "      <td>46.198560</td>\n",
       "      <td>100.000000</td>\n",
       "      <td>46.198560</td>\n",
       "      <td>46.198560</td>\n",
       "      <td>46.198560</td>\n",
       "      <td>46.198560</td>\n",
       "      <td>46.198560</td>\n",
       "      <td>46.198560</td>\n",
       "      <td>46.198560</td>\n",
       "      <td>46.198560</td>\n",
       "      <td>60.000000</td>\n",
       "      <td>46.198560</td>\n",
       "    </tr>\n",
       "  </tbody>\n",
       "</table>\n",
       "</div>"
      ],
      "text/plain": [
       "            price  crime_rate  resid_area    air_qual    room_num         age  \\\n",
       "count  506.000000  506.000000  506.000000  506.000000  506.000000  506.000000   \n",
       "mean    22.466949    4.034418   40.563748    1.128777    6.702947   67.086317   \n",
       "std      9.354954    9.701752    8.095450    4.951809    4.400548   28.930441   \n",
       "min      3.026424    0.006320    3.026424    0.385000    3.026424    2.900000   \n",
       "25%     17.025000    0.082492   35.130000    0.449000    5.877250   42.650000   \n",
       "50%     21.200000    0.268880   38.560000    0.538000    6.193000   75.500000   \n",
       "75%     25.000000    3.647423   48.100000    0.643000    6.623500   93.600000   \n",
       "max     50.000000   88.976200   57.740000   46.198560   46.198560  100.000000   \n",
       "\n",
       "            dist1       dist2       dist3       dist4    teachers   poor_prop  \\\n",
       "count  506.000000  506.000000  506.000000  506.000000  506.000000  506.000000   \n",
       "mean     4.493708    4.159815    4.482364    4.148669   21.581376   12.847503   \n",
       "std      5.028362    5.060760    5.034424    5.058312    4.061698    7.923998   \n",
       "min      1.130000    0.920000    1.150000    0.730000    3.026424    1.730000   \n",
       "25%      2.300000    1.972500    2.302500    2.020000   19.800000    6.877500   \n",
       "50%      3.420000    3.070000    3.410000    3.120000   21.000000   11.330000   \n",
       "75%      5.467500    5.077500    5.477500    5.060000   23.000000   16.930000   \n",
       "max     46.198560   46.198560   46.198560   46.198560   46.198560   46.198560   \n",
       "\n",
       "       n_hos_beds  n_hot_rooms    rainfall       parks  \n",
       "count  499.000000   506.000000  506.000000  506.000000  \n",
       "mean     8.296626    13.009754   38.716159    0.642595  \n",
       "std      4.472174     4.146546   12.997474    5.007425  \n",
       "min      3.026424     3.026424    3.026424    0.033292  \n",
       "25%      6.606000    11.189800   27.000000    0.046528  \n",
       "50%      7.998000    12.720000   39.000000    0.053860  \n",
       "75%      9.145000    14.170800   50.000000    0.061625  \n",
       "max     46.198560    46.198560   60.000000   46.198560  "
      ]
     },
     "execution_count": 19,
     "metadata": {},
     "output_type": "execute_result"
    }
   ],
   "source": [
    "df.describe()"
   ]
  },
  {
   "cell_type": "code",
   "execution_count": 20,
   "id": "232d67c5",
   "metadata": {
    "execution": {
     "iopub.execute_input": "2023-05-10T10:25:57.346798Z",
     "iopub.status.busy": "2023-05-10T10:25:57.346274Z",
     "iopub.status.idle": "2023-05-10T10:25:58.580037Z",
     "shell.execute_reply": "2023-05-10T10:25:58.578624Z"
    },
    "papermill": {
     "duration": 1.254672,
     "end_time": "2023-05-10T10:25:58.583168",
     "exception": false,
     "start_time": "2023-05-10T10:25:57.328496",
     "status": "completed"
    },
    "tags": []
   },
   "outputs": [
    {
     "data": {
      "text/plain": [
       "<seaborn.axisgrid.JointGrid at 0x7b559854f580>"
      ]
     },
     "execution_count": 20,
     "metadata": {},
     "output_type": "execute_result"
    },
    {
     "data": {
      "image/png": "[encoded data removed]",
      "text/plain": [
       "<Figure size 600x600 with 3 Axes>"
      ]
     },
     "metadata": {},
     "output_type": "display_data"
    }
   ],
   "source": [
    "sns.jointplot(data=df,x=\"crime_rate\",y=\"price\")"
   ]
  }
 ],
 "metadata": {
  "kernelspec": {
   "display_name": "Python 3",
   "language": "python",
   "name": "python3"
  },
  "language_info": {
   "codemirror_mode": {
    "name": "ipython",
    "version": 3
   },
   "file_extension": ".py",
   "mimetype": "text/x-python",
   "name": "python",
   "nbconvert_exporter": "python",
   "pygments_lexer": "ipython3",
   "version": "3.10.10"
  },
  "papermill": {
   "default_parameters": {},
   "duration": 24.979381,
   "end_time": "2023-05-10T10:26:01.083306",
   "environment_variables": {},
   "exception": null,
   "input_path": "__notebook__.ipynb",
   "output_path": "__notebook__.ipynb",
   "parameters": {},
   "start_time": "2023-05-10T10:25:36.103925",
   "version": "2.4.0"
  }
 },
 "nbformat": 4,
 "nbformat_minor": 5
}
